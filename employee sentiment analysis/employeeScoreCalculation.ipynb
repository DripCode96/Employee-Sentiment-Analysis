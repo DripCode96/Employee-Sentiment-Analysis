{
 "cells": [
  {
   "cell_type": "code",
   "execution_count": null,
   "id": "9e146194",
   "metadata": {},
   "outputs": [
    {
     "name": "stdout",
     "output_type": "stream",
     "text": [
      "                            from year_month  monthly_sentiment_score\n",
      "0    bobette.riner@ipgdirect.com    2010-01                       -2\n",
      "1    bobette.riner@ipgdirect.com    2010-02                       -4\n",
      "2    bobette.riner@ipgdirect.com    2010-03                       -3\n",
      "3    bobette.riner@ipgdirect.com    2010-04                       -4\n",
      "4    bobette.riner@ipgdirect.com    2010-05                        2\n",
      "..                           ...        ...                      ...\n",
      "235         sally.beck@enron.com    2011-08                       -7\n",
      "236         sally.beck@enron.com    2011-09                       -1\n",
      "237         sally.beck@enron.com    2011-10                        3\n",
      "238         sally.beck@enron.com    2011-11                       -2\n",
      "239         sally.beck@enron.com    2011-12                       -2\n",
      "\n",
      "[240 rows x 3 columns]\n",
      "🏆 Top Positive Employees:\n",
      "                      from  overall_sentiment_score\n",
      "4  johnny.palmer@enron.com                      -22\n",
      "2      eric.bass@enron.com                      -34\n",
      "6  lydia.delgado@enron.com                      -37\n",
      "\n",
      "⚠️ Top Negative Employees:\n",
      "                      from  overall_sentiment_score\n",
      "1   don.baughman@enron.com                      -62\n",
      "3    john.arnold@enron.com                      -55\n",
      "8  rhonda.denton@enron.com                      -53\n"
     ]
    }
   ],
   "source": [
    "import pandas as pd\n",
    "\n",
    "# Load the dataset (if not already loaded)\n",
    "df = pd.read_csv(\"test(in)_with_sentiment.csv\")\n",
    "\n",
    "# Convert 'date' to datetime\n",
    "df['date'] = pd.to_datetime(df['date'])\n",
    "\n",
    "# Extract year and month for grouping\n",
    "df['year_month'] = df['date'].dt.to_period('M')\n",
    "\n",
    "# Map sentiment to score\n",
    "sentiment_to_score = {\n",
    "    'Positive': 1,\n",
    "    'Negative': -1,\n",
    "    'Neutral': 0\n",
    "}\n",
    "df['score'] = df['sentiment'].map(sentiment_to_score)\n",
    "\n",
    "# Group by employee and month, then sum the scores\n",
    "monthly_scores = df.groupby(['from', 'year_month'])['score'].sum().reset_index()\n",
    "\n",
    "# Rename columns for clarity\n",
    "monthly_scores.rename(columns={'score': 'monthly_sentiment_score'}, inplace=True)\n",
    "\n",
    "# Display the result\n",
    "print(monthly_scores)\n",
    "\n",
    "\n",
    "monthly_scores.to_csv(\"monthly_employee_sentiment_scores.csv\", index=False)\n",
    "# Top 3 Positive (highest scores)\n",
    "top_positive = overall_scores.sort_values(by='overall_sentiment_score', ascending=False).head(3)\n",
    "\n",
    "# Top 3 Negative (lowest scores)\n",
    "top_negative = overall_scores.sort_values(by='overall_sentiment_score', ascending=True).head(3)\n",
    "\n",
    "print(\"🏆 Top Positive Employees:\")\n",
    "print(top_positive)\n",
    "\n",
    "print(\"\\n⚠️ Top Negative Employees:\")\n",
    "print(top_negative)\n"
   ]
  }
 ],
 "metadata": {
  "kernelspec": {
   "display_name": "base",
   "language": "python",
   "name": "python3"
  },
  "language_info": {
   "codemirror_mode": {
    "name": "ipython",
    "version": 3
   },
   "file_extension": ".py",
   "mimetype": "text/x-python",
   "name": "python",
   "nbconvert_exporter": "python",
   "pygments_lexer": "ipython3",
   "version": "3.11.7"
  }
 },
 "nbformat": 4,
 "nbformat_minor": 5
}
