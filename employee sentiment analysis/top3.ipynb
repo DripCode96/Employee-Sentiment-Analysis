{
 "cells": [
  {
   "cell_type": "code",
   "execution_count": 3,
   "id": "a5793fd2",
   "metadata": {},
   "outputs": [],
   "source": [
    "import pandas as pd\n",
    "\n",
    "df = pd.read_csv(\"test(in)_with_sentiment.csv\")\n"
   ]
  },
  {
   "cell_type": "code",
   "execution_count": 4,
   "id": "38d58eb3",
   "metadata": {},
   "outputs": [],
   "source": [
    "# Convert sentiment text -> numeric\n",
    "df['sentiment'] = df['sentiment'].map({'Positive': 1, 'Negative': -1, 'Neutral': 0})\n"
   ]
  },
  {
   "cell_type": "code",
   "execution_count": 5,
   "id": "9070d5fc",
   "metadata": {},
   "outputs": [],
   "source": [
    "employee_scores = df.groupby(\"from\")['sentiment'].sum().reset_index()\n",
    "employee_scores = employee_scores.rename(columns={'sentiment': 'sentiment_score'})\n"
   ]
  },
  {
   "cell_type": "code",
   "execution_count": 6,
   "id": "be7f527e",
   "metadata": {},
   "outputs": [],
   "source": [
    "employee_scores = df.groupby(\"from\")['sentiment'].sum().reset_index()\n",
    "employee_scores = employee_scores.rename(columns={'sentiment': 'sentiment_score'})\n"
   ]
  },
  {
   "cell_type": "code",
   "execution_count": 10,
   "id": "8c4842c3",
   "metadata": {},
   "outputs": [
    {
     "name": "stdout",
     "output_type": "stream",
     "text": [
      "🏆 Top 3 Positive Employees:\n",
      "                      from  sentiment_score\n",
      "4  johnny.palmer@enron.com              -22\n",
      "2      eric.bass@enron.com              -34\n",
      "6  lydia.delgado@enron.com              -37\n",
      "\n",
      "⚠️ Top 3 Negative Employees:\n",
      "                      from  sentiment_score\n",
      "1   don.baughman@enron.com              -62\n",
      "3    john.arnold@enron.com              -55\n",
      "8  rhonda.denton@enron.com              -53\n"
     ]
    }
   ],
   "source": [
    "# Top 3 positive employees (highest scores)\n",
    "top_positive = employee_scores.sort_values(by=\"sentiment_score\", ascending=False).head(3)\n",
    "\n",
    "# Top 3 negative employees (lowest scores)\n",
    "top_negative = employee_scores.sort_values(by=\"sentiment_score\", ascending=True).head(3)\n",
    "\n",
    "print(\"🏆 Top 3 Positive Employees:\")\n",
    "print(top_positive)\n",
    "\n",
    "print(\"\\n⚠️ Top 3 Negative Employees:\")\n",
    "print(top_negative)\n"
   ]
  },
  {
   "cell_type": "code",
   "execution_count": 8,
   "id": "646e804c",
   "metadata": {},
   "outputs": [
    {
     "name": "stdout",
     "output_type": "stream",
     "text": [
      "🔎 Sentiment Score Distribution:\n",
      "count    10.000000\n",
      "mean    -44.300000\n",
      "std      11.832629\n",
      "min     -62.000000\n",
      "25%     -52.250000\n",
      "50%     -46.500000\n",
      "75%     -37.000000\n",
      "max     -22.000000\n",
      "Name: sentiment_score, dtype: float64\n",
      "\n",
      "Top 10 employees by sentiment score:\n",
      "                          from  sentiment_score\n",
      "4      johnny.palmer@enron.com              -22\n",
      "2          eric.bass@enron.com              -34\n",
      "6      lydia.delgado@enron.com              -37\n",
      "9         sally.beck@enron.com              -37\n",
      "7     patti.thompson@enron.com              -45\n",
      "5      kayne.coulter@enron.com              -48\n",
      "0  bobette.riner@ipgdirect.com              -50\n",
      "8      rhonda.denton@enron.com              -53\n",
      "3        john.arnold@enron.com              -55\n",
      "1       don.baughman@enron.com              -62\n"
     ]
    }
   ],
   "source": [
    "print(\"🔎 Sentiment Score Distribution:\")\n",
    "print(employee_scores['sentiment_score'].describe())\n",
    "\n",
    "print(\"\\nTop 10 employees by sentiment score:\")\n",
    "print(employee_scores.sort_values(by=\"sentiment_score\", ascending=False).head(10))\n"
   ]
  },
  {
   "cell_type": "code",
   "execution_count": 9,
   "id": "f5e93c57",
   "metadata": {},
   "outputs": [
    {
     "name": "stdout",
     "output_type": "stream",
     "text": [
      "sentiment\n",
      "-1    1244\n",
      " 1     801\n",
      " 0     146\n",
      "Name: count, dtype: int64\n"
     ]
    }
   ],
   "source": [
    "print(df['sentiment'].value_counts())\n"
   ]
  },
  {
   "cell_type": "code",
   "execution_count": null,
   "id": "40076dd0",
   "metadata": {},
   "outputs": [],
   "source": []
  }
 ],
 "metadata": {
  "kernelspec": {
   "display_name": "base",
   "language": "python",
   "name": "python3"
  },
  "language_info": {
   "codemirror_mode": {
    "name": "ipython",
    "version": 3
   },
   "file_extension": ".py",
   "mimetype": "text/x-python",
   "name": "python",
   "nbconvert_exporter": "python",
   "pygments_lexer": "ipython3",
   "version": "3.11.7"
  }
 },
 "nbformat": 4,
 "nbformat_minor": 5
}
